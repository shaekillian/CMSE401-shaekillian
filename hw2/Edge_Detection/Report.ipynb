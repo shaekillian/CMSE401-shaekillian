{
 "cells": [
  {
   "cell_type": "markdown",
   "metadata": {},
   "source": [
    "# Results of Edge Detection Benchmark and Speedup\n",
    "\n",
    "By: Shae Killian"
   ]
  },
  {
   "cell_type": "markdown",
   "metadata": {},
   "source": [
    "## Serial Experiment\n",
    "\n",
    "I compiled the serial code on my Dell i7 Core laptop, on HPCC with 4 cores using the following commands:\n",
    "\n",
    "```\n",
    "###YOUR COMMANDS HERE###\n",
    "```"
   ]
  },
  {
   "cell_type": "markdown",
   "metadata": {},
   "source": [
    "I ran the code ###x### times on my Dell i7 Core laptop and obtained the following results"
   ]
  },
  {
   "cell_type": "markdown",
   "metadata": {},
   "source": [
    "###Put your results here (maybe plot them if it seems appropriate)###"
   ]
  },
  {
   "cell_type": "markdown",
   "metadata": {},
   "source": [
    "## Code Optimization\n",
    "\n",
    "###Describe changes you made to the code to try and make it go faster### \n",
    "\n",
    "* Idea 1\n",
    "* Idea 2\n",
    "* etc...\n",
    "\n",
    "Show your timing results as either a table or a graph."
   ]
  },
  {
   "cell_type": "markdown",
   "metadata": {},
   "source": [
    "## OpenMP Speedup\n",
    "\n",
    "###Describe what you did to speed up your code using OpenMP###\n",
    "\n",
    "* Idea 1\n",
    "* Idea 2\n",
    "* etc...\n",
    "\n",
    "Show your timing results as either a table or a graph."
   ]
  },
  {
   "cell_type": "markdown",
   "metadata": {},
   "source": [
    "## Concluding Discussion\n",
    "\n",
    "###Describe what you learned during this process, what worked, what didn't work, where did you have trouble and what you learned###"
   ]
  },
  {
   "cell_type": "markdown",
   "metadata": {},
   "source": [
    "----"
   ]
  }
 ],
 "metadata": {
  "kernelspec": {
   "display_name": "Python 3.11 (default)",
   "language": "python",
   "name": "python3"
  },
  "language_info": {
   "codemirror_mode": {
    "name": "ipython",
    "version": 3
   },
   "file_extension": ".py",
   "mimetype": "text/x-python",
   "name": "python",
   "nbconvert_exporter": "python",
   "pygments_lexer": "ipython3",
   "version": "3.11.11"
  }
 },
 "nbformat": 4,
 "nbformat_minor": 4
}
